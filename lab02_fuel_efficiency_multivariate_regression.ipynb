{
  "nbformat": 4,
  "nbformat_minor": 0,
  "metadata": {
    "colab": {
      "provenance": [],
      "authorship_tag": "ABX9TyO23gfX1cUpklPDoS+uzQWZ",
      "include_colab_link": true
    },
    "kernelspec": {
      "name": "python3",
      "display_name": "Python 3"
    },
    "language_info": {
      "name": "python"
    }
  },
  "cells": [
    {
      "cell_type": "markdown",
      "metadata": {
        "id": "view-in-github",
        "colab_type": "text"
      },
      "source": [
        "<a href=\"https://colab.research.google.com/github/jhryals/ml-labs-lockheed/blob/main/lab02_fuel_efficiency_multivariate_regression.ipynb\" target=\"_parent\"><img src=\"https://colab.research.google.com/assets/colab-badge.svg\" alt=\"Open In Colab\"/></a>"
      ]
    },
    {
      "cell_type": "markdown",
      "source": [
        "# Lab 02: Fuel Efficiency Prediction Using Multiple Linear Regression\n",
        "\n",
        "**Goal:** Predict aircraft fuel efficiency using multiple features such as altitude, speed, payload, and flight duration.  \n",
        "**Lockheed Relevance:** Sustainment and mission planning rely on accurate predictions of fuel usage.  \n",
        "**Key Concepts:** Vectorized multiple linear regression, feature scaling, polynomial features\n"
      ],
      "metadata": {
        "id": "oyAkTBj73ki0"
      }
    },
    {
      "cell_type": "markdown",
      "source": [
        "## 🔧 Step 1: Setup\n",
        "\n",
        "Import libraries for numerical computation and visualization.\n"
      ],
      "metadata": {
        "id": "ZQv0jh6N3092"
      }
    },
    {
      "cell_type": "code",
      "source": [
        "import numpy as np\n",
        "import matplotlib.pyplot as plt\n",
        "from sklearn.preprocessing import StandardScaler  # for feature scaling\n"
      ],
      "metadata": {
        "id": "4qD0k70h32ru"
      },
      "execution_count": 1,
      "outputs": []
    },
    {
      "cell_type": "markdown",
      "source": [
        "## 📊 Step 2: Generate Synthetic Data\n",
        "\n",
        "We simulate realistic flight data for a small fleet of surveillance aircraft.  \n",
        "Each observation includes:\n",
        "\n",
        "- `altitude` (in thousands of feet)  \n",
        "- `airspeed` (in knots)  \n",
        "- `payload_weight` (in tons)  \n",
        "- `flight_duration` (in hours)\n",
        "\n",
        "Our target is `fuel_consumption` in gallons/hour. We introduce realistic variation and noise.\n"
      ],
      "metadata": {
        "id": "lluL7-SZ5Ik7"
      }
    },
    {
      "cell_type": "code",
      "source": [
        "np.random.seed(1)\n",
        "\n",
        "m = 100  # number of data points\n",
        "\n",
        "# Generate features\n",
        "altitude = np.random.normal(25, 5, m)          # 25k ft avg\n",
        "airspeed = np.random.normal(400, 50, m)        # 400 knots avg\n",
        "payload = np.random.normal(5, 2, m)            # 5 tons avg\n",
        "duration = np.random.normal(3, 0.5, m)         # 3 hrs avg\n",
        "\n",
        "# Stack features into a matrix X\n",
        "X_raw = np.column_stack((altitude, airspeed, payload, duration))\n",
        "\n",
        "# Define true coefficients for simulation\n",
        "true_weights = np.array([2.0, 0.05, 4.0, 10.0])\n",
        "bias = 50\n",
        "\n",
        "# Calculate target variable: fuel usage\n",
        "noise = np.random.normal(0, 10, m)\n",
        "y = X_raw @ true_weights + bias + noise  # gallons per hour\n"
      ],
      "metadata": {
        "id": "54sp08xY5P_W"
      },
      "execution_count": 2,
      "outputs": []
    },
    {
      "cell_type": "markdown",
      "source": [
        "## 🧮 Step 3: Feature Scaling\n",
        "\n",
        "To help gradient descent converge faster, we scale each feature to have:\n",
        "- Mean = 0\n",
        "- Standard deviation = 1\n",
        "\n",
        "This ensures that all features contribute equally to the cost function.\n"
      ],
      "metadata": {
        "id": "40js8Z-yAdTu"
      }
    },
    {
      "cell_type": "code",
      "source": [
        "# Standardize features using z-score normalization\n",
        "scaler = StandardScaler()\n",
        "X = scaler.fit_transform(X_raw)\n",
        "\n",
        "# Check shapes\n",
        "print(f\"X shape: {X.shape}, y shape: {y.shape}\")\n"
      ],
      "metadata": {
        "colab": {
          "base_uri": "https://localhost:8080/"
        },
        "id": "LvZjuRuBAk0v",
        "outputId": "985facab-f267-4448-8656-a755757f684c"
      },
      "execution_count": 3,
      "outputs": [
        {
          "output_type": "stream",
          "name": "stdout",
          "text": [
            "X shape: (100, 4), y shape: (100,)\n"
          ]
        }
      ]
    },
    {
      "cell_type": "markdown",
      "source": [
        "## 🧠 Step 4: Define the Cost Function (Vectorized)\n",
        "\n",
        "We use **Mean Squared Error (MSE)** as the cost function:\n",
        "\n",
        "\\[\n",
        "J(w, b) = \\frac{1}{2m} \\sum (Xw + b - y)^2\n",
        "\\]\\\n",
        "\n",
        "Vectorized implementation is used for performance.\n"
      ],
      "metadata": {
        "id": "ELOL3wgpBSce"
      }
    },
    {
      "cell_type": "code",
      "source": [
        "def compute_cost(X, y, w, b):\n",
        "    m = X.shape[0]\n",
        "    f_wb = X @ w + b\n",
        "    cost = np.sum((f_wb - y)**2) / (2 * m)\n",
        "    return cost\n"
      ],
      "metadata": {
        "id": "4d5gz7tmBa9w"
      },
      "execution_count": 4,
      "outputs": []
    },
    {
      "cell_type": "markdown",
      "source": [
        "## 🎯 Step 5: Compute Gradients (Vectorized)\n",
        "\n",
        "We compute the gradients with respect to the weights and bias:\n",
        "\n",
        "- \\(\\frac{\\partial J}{\\partial w} = \\frac{1}{m} X^T (Xw + b - y)\\)  \n",
        "- \\(\\frac{\\partial J}{\\partial b} = \\frac{1}{m} \\sum (Xw + b - y)\\)\n"
      ],
      "metadata": {
        "id": "aILZHOkCB5__"
      }
    },
    {
      "cell_type": "code",
      "source": [
        "def compute_gradient(X, y, w, b):\n",
        "    m = X.shape[0]\n",
        "    f_wb = X @ w + b\n",
        "    error = f_wb - y\n",
        "    dj_dw = (X.T @ error) / m\n",
        "    dj_db = np.sum(error) / m\n",
        "    return dj_dw, dj_db\n"
      ],
      "metadata": {
        "id": "YsXdqYzGCDQc"
      },
      "execution_count": 5,
      "outputs": []
    },
    {
      "cell_type": "markdown",
      "source": [
        "## 🔁 Step 6: Train the Model Using Gradient Descent\n",
        "\n",
        "We initialize weights and bias to zero, then iteratively update them using gradients.\n"
      ],
      "metadata": {
        "id": "N7LNoy6SC_AN"
      }
    },
    {
      "cell_type": "code",
      "source": [
        "def gradient_descent(X, y, w_init, b_init, alpha, num_iters):\n",
        "    w = w_init.copy()\n",
        "    b = b_init\n",
        "    cost_history = []\n",
        "\n",
        "    for i in range(num_iters):\n",
        "        dj_dw, dj_db = compute_gradient(X, y, w, b)\n",
        "        w -= alpha * dj_dw\n",
        "        b -= alpha * dj_db\n",
        "\n",
        "        if i % 100 == 0:\n",
        "            cost = compute_cost(X, y, w, b)\n",
        "            cost_history.append(cost)\n",
        "            print(f\"Iter {i:4d}: Cost={cost:.4f}\")\n",
        "\n",
        "    return w, b, cost_history\n"
      ],
      "metadata": {
        "id": "I4zYJzsdDb8i"
      },
      "execution_count": 6,
      "outputs": []
    },
    {
      "cell_type": "code",
      "source": [
        "# Initialize\n",
        "w_init = np.zeros(X.shape[1])\n",
        "b_init = 0\n",
        "alpha = 0.01\n",
        "iterations = 10000\n",
        "\n",
        "# Train model\n",
        "w_final, b_final, cost_history = gradient_descent(X, y, w_init, b_init, alpha, iterations)\n"
      ],
      "metadata": {
        "colab": {
          "base_uri": "https://localhost:8080/"
        },
        "collapsed": true,
        "id": "mK-BoEnrDws-",
        "outputId": "b865d949-f8e9-42e6-e4c4-4100a2ba4aea"
      },
      "execution_count": 8,
      "outputs": [
        {
          "output_type": "stream",
          "name": "stdout",
          "text": [
            "Iter    0: Cost=14550.1817\n",
            "Iter  100: Cost=1992.4509\n",
            "Iter  200: Cost=309.7038\n",
            "Iter  300: Cost=84.0024\n",
            "Iter  400: Cost=53.6951\n",
            "Iter  500: Cost=49.6189\n",
            "Iter  600: Cost=49.0694\n",
            "Iter  700: Cost=48.9950\n",
            "Iter  800: Cost=48.9849\n",
            "Iter  900: Cost=48.9835\n",
            "Iter 1000: Cost=48.9833\n",
            "Iter 1100: Cost=48.9832\n",
            "Iter 1200: Cost=48.9832\n",
            "Iter 1300: Cost=48.9832\n",
            "Iter 1400: Cost=48.9832\n",
            "Iter 1500: Cost=48.9832\n",
            "Iter 1600: Cost=48.9832\n",
            "Iter 1700: Cost=48.9832\n",
            "Iter 1800: Cost=48.9832\n",
            "Iter 1900: Cost=48.9832\n",
            "Iter 2000: Cost=48.9832\n",
            "Iter 2100: Cost=48.9832\n",
            "Iter 2200: Cost=48.9832\n",
            "Iter 2300: Cost=48.9832\n",
            "Iter 2400: Cost=48.9832\n",
            "Iter 2500: Cost=48.9832\n",
            "Iter 2600: Cost=48.9832\n",
            "Iter 2700: Cost=48.9832\n",
            "Iter 2800: Cost=48.9832\n",
            "Iter 2900: Cost=48.9832\n",
            "Iter 3000: Cost=48.9832\n",
            "Iter 3100: Cost=48.9832\n",
            "Iter 3200: Cost=48.9832\n",
            "Iter 3300: Cost=48.9832\n",
            "Iter 3400: Cost=48.9832\n",
            "Iter 3500: Cost=48.9832\n",
            "Iter 3600: Cost=48.9832\n",
            "Iter 3700: Cost=48.9832\n",
            "Iter 3800: Cost=48.9832\n",
            "Iter 3900: Cost=48.9832\n",
            "Iter 4000: Cost=48.9832\n",
            "Iter 4100: Cost=48.9832\n",
            "Iter 4200: Cost=48.9832\n",
            "Iter 4300: Cost=48.9832\n",
            "Iter 4400: Cost=48.9832\n",
            "Iter 4500: Cost=48.9832\n",
            "Iter 4600: Cost=48.9832\n",
            "Iter 4700: Cost=48.9832\n",
            "Iter 4800: Cost=48.9832\n",
            "Iter 4900: Cost=48.9832\n",
            "Iter 5000: Cost=48.9832\n",
            "Iter 5100: Cost=48.9832\n",
            "Iter 5200: Cost=48.9832\n",
            "Iter 5300: Cost=48.9832\n",
            "Iter 5400: Cost=48.9832\n",
            "Iter 5500: Cost=48.9832\n",
            "Iter 5600: Cost=48.9832\n",
            "Iter 5700: Cost=48.9832\n",
            "Iter 5800: Cost=48.9832\n",
            "Iter 5900: Cost=48.9832\n",
            "Iter 6000: Cost=48.9832\n",
            "Iter 6100: Cost=48.9832\n",
            "Iter 6200: Cost=48.9832\n",
            "Iter 6300: Cost=48.9832\n",
            "Iter 6400: Cost=48.9832\n",
            "Iter 6500: Cost=48.9832\n",
            "Iter 6600: Cost=48.9832\n",
            "Iter 6700: Cost=48.9832\n",
            "Iter 6800: Cost=48.9832\n",
            "Iter 6900: Cost=48.9832\n",
            "Iter 7000: Cost=48.9832\n",
            "Iter 7100: Cost=48.9832\n",
            "Iter 7200: Cost=48.9832\n",
            "Iter 7300: Cost=48.9832\n",
            "Iter 7400: Cost=48.9832\n",
            "Iter 7500: Cost=48.9832\n",
            "Iter 7600: Cost=48.9832\n",
            "Iter 7700: Cost=48.9832\n",
            "Iter 7800: Cost=48.9832\n",
            "Iter 7900: Cost=48.9832\n",
            "Iter 8000: Cost=48.9832\n",
            "Iter 8100: Cost=48.9832\n",
            "Iter 8200: Cost=48.9832\n",
            "Iter 8300: Cost=48.9832\n",
            "Iter 8400: Cost=48.9832\n",
            "Iter 8500: Cost=48.9832\n",
            "Iter 8600: Cost=48.9832\n",
            "Iter 8700: Cost=48.9832\n",
            "Iter 8800: Cost=48.9832\n",
            "Iter 8900: Cost=48.9832\n",
            "Iter 9000: Cost=48.9832\n",
            "Iter 9100: Cost=48.9832\n",
            "Iter 9200: Cost=48.9832\n",
            "Iter 9300: Cost=48.9832\n",
            "Iter 9400: Cost=48.9832\n",
            "Iter 9500: Cost=48.9832\n",
            "Iter 9600: Cost=48.9832\n",
            "Iter 9700: Cost=48.9832\n",
            "Iter 9800: Cost=48.9832\n",
            "Iter 9900: Cost=48.9832\n"
          ]
        }
      ]
    },
    {
      "cell_type": "markdown",
      "source": [
        "## 📈 Step 7: Plot Cost vs Iterations\n",
        "\n",
        "This shows whether our model is learning and converging properly.\n"
      ],
      "metadata": {
        "id": "eVbjXwJGEE8P"
      }
    },
    {
      "cell_type": "code",
      "source": [
        "plt.plot(np.arange(0, len(cost_history)) * 100, cost_history)\n",
        "plt.xlabel(\"Iteration\")\n",
        "plt.ylabel(\"Cost (MSE)\")\n",
        "plt.title(\"Cost Convergence Over Time\")\n",
        "plt.grid(True)\n",
        "plt.show()\n"
      ],
      "metadata": {
        "colab": {
          "base_uri": "https://localhost:8080/",
          "height": 472
        },
        "id": "F7wFLjysEHCq",
        "outputId": "9ccb99ae-209f-44d3-e600-b5effda0a8f1"
      },
      "execution_count": 9,
      "outputs": [
        {
          "output_type": "display_data",
          "data": {
            "text/plain": [
              "<Figure size 640x480 with 1 Axes>"
            ],
            "image/png": "[encoded data removed]"
          },
          "metadata": {}
        }
      ]
    },
    {
      "cell_type": "markdown",
      "source": [
        "## 🔍 Step 8: Predict New Aircraft's Fuel Usage\n",
        "\n",
        "Now that we have trained our model, we can make a prediction for a new surveillance aircraft mission profile.\n"
      ],
      "metadata": {
        "id": "uhrhsJpNEMH5"
      }
    },
    {
      "cell_type": "code",
      "source": [
        "# New data point (altitude, airspeed, payload, duration)\n",
        "x_new = np.array([[30, 450, 6, 3.5]])\n",
        "x_new_scaled = scaler.transform(x_new)\n",
        "\n",
        "# Predict using trained model\n",
        "y_pred = x_new_scaled @ w_final + b_final\n",
        "print(f\"Predicted fuel consumption: {y_pred[0]:.2f} gallons/hour\")\n"
      ],
      "metadata": {
        "colab": {
          "base_uri": "https://localhost:8080/"
        },
        "id": "2a5nDslhEPRv",
        "outputId": "8b18a2f7-582d-405b-d69d-6ec701bfa0e1"
      },
      "execution_count": 10,
      "outputs": [
        {
          "output_type": "stream",
          "name": "stdout",
          "text": [
            "Predicted fuel consumption: 188.02 gallons/hour\n"
          ]
        }
      ]
    }
  ]
}